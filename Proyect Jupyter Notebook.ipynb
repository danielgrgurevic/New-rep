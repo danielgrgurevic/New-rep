{
  "metadata": {
    "language_info": {
      "codemirror_mode": {
        "name": "python",
        "version": 3
      },
      "file_extension": ".py",
      "mimetype": "text/x-python",
      "name": "python",
      "nbconvert_exporter": "python",
      "pygments_lexer": "ipython3",
      "version": "3.8"
    },
    "kernelspec": {
      "name": "python",
      "display_name": "Pyolite",
      "language": "python"
    }
  },
  "nbformat_minor": 4,
  "nbformat": 4,
  "cells": [
    {
      "cell_type": "markdown",
      "source": "# Final proyect",
      "metadata": {}
    },
    {
      "cell_type": "markdown",
      "source": "Autor proyect: Daniel Grgurevic",
      "metadata": {}
    },
    {
      "cell_type": "markdown",
      "source": "## This notebook is about a summary of data science",
      "metadata": {}
    },
    {
      "cell_type": "markdown",
      "source": "**The objectives to be met in this notebook are**\n\n1- Describe the most popular lenguaje use un Data science.\n\n2-Describe main libraries.\n\n3- Perform mathematical operations with code.\n",
      "metadata": {}
    },
    {
      "cell_type": "markdown",
      "source": "The most popular lenguages use in data science are:\n\n1-Python\n\n2-R\n\n3-SQL",
      "metadata": {}
    },
    {
      "cell_type": "markdown",
      "source": "Some of the most main libraries used by Data scientists include:\n\n1-Numpy\n\n2-Pandas\n\n3-TensorFlow ",
      "metadata": {}
    },
    {
      "cell_type": "markdown",
      "source": "| Tool Name  |\n\n|Apache Spark|\n\n| TensorFlow | \n\n|   Pandas   | ",
      "metadata": {}
    },
    {
      "cell_type": "markdown",
      "source": "### Below are a few examples of evaluating arithmetic expressions in Python",
      "metadata": {}
    },
    {
      "cell_type": "markdown",
      "source": "This is a simple arithmetic expression to perform a sum:",
      "metadata": {}
    },
    {
      "cell_type": "code",
      "source": "1+1",
      "metadata": {
        "trusted": true
      },
      "execution_count": 1,
      "outputs": [
        {
          "execution_count": 1,
          "output_type": "execute_result",
          "data": {
            "text/plain": "2"
          },
          "metadata": {}
        }
      ]
    },
    {
      "cell_type": "markdown",
      "source": "This is a simple arithmetic expression to perform a multiplication:",
      "metadata": {}
    },
    {
      "cell_type": "code",
      "source": "7*(1+6*3)",
      "metadata": {
        "trusted": true
      },
      "execution_count": 2,
      "outputs": [
        {
          "execution_count": 2,
          "output_type": "execute_result",
          "data": {
            "text/plain": "133"
          },
          "metadata": {}
        }
      ]
    },
    {
      "cell_type": "markdown",
      "source": "The following cell will convert 600 minutes to hours",
      "metadata": {}
    },
    {
      "cell_type": "code",
      "source": "600/60",
      "metadata": {
        "trusted": true
      },
      "execution_count": 3,
      "outputs": [
        {
          "execution_count": 3,
          "output_type": "execute_result",
          "data": {
            "text/plain": "10.0"
          },
          "metadata": {}
        }
      ]
    }
  ]
}